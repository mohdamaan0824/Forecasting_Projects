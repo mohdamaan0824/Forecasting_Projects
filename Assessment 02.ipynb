{
 "cells": [
  {
   "cell_type": "markdown",
   "metadata": {},
   "source": [
    "\n",
    "# Student Name - Mohd Amaan\n"
   ]
  },
  {
   "cell_type": "markdown",
   "metadata": {},
   "source": [
    "## Importing neccessary libraries and data"
   ]
  },
  {
   "cell_type": "code",
   "execution_count": 6,
   "metadata": {},
   "outputs": [],
   "source": [
    "import pandas as pd\n",
    "import seaborn as sns\n",
    "import matplotlib.pyplot as plt\n",
    "from sklearn.preprocessing import StandardScaler\n",
    "import numpy as np\n",
    "import scipy.stats as stats\n",
    "import statsmodels.api as sm\n",
    "import warnings \n",
    "warnings.filterwarnings('ignore')"
   ]
  },
  {
   "cell_type": "code",
   "execution_count": 7,
   "metadata": {
    "scrolled": true
   },
   "outputs": [
    {
     "data": {
      "text/html": [
       "<div>\n",
       "<style scoped>\n",
       "    .dataframe tbody tr th:only-of-type {\n",
       "        vertical-align: middle;\n",
       "    }\n",
       "\n",
       "    .dataframe tbody tr th {\n",
       "        vertical-align: top;\n",
       "    }\n",
       "\n",
       "    .dataframe thead th {\n",
       "        text-align: right;\n",
       "    }\n",
       "</style>\n",
       "<table border=\"1\" class=\"dataframe\">\n",
       "  <thead>\n",
       "    <tr style=\"text-align: right;\">\n",
       "      <th></th>\n",
       "      <th>koala_id</th>\n",
       "      <th>region</th>\n",
       "      <th>habitat</th>\n",
       "      <th>gender</th>\n",
       "      <th>age_in_years</th>\n",
       "      <th>Paw Size</th>\n",
       "      <th>total lengh</th>\n",
       "      <th>head_length</th>\n",
       "      <th>ear_size</th>\n",
       "      <th>foot_length</th>\n",
       "      <th>skull_width</th>\n",
       "      <th>eye_diameter</th>\n",
       "      <th>chest_circumference</th>\n",
       "      <th>belly_circumference</th>\n",
       "    </tr>\n",
       "  </thead>\n",
       "  <tbody>\n",
       "    <tr>\n",
       "      <th>0</th>\n",
       "      <td>1</td>\n",
       "      <td>1</td>\n",
       "      <td>VIC</td>\n",
       "      <td>m</td>\n",
       "      <td>8.0</td>\n",
       "      <td>16.0</td>\n",
       "      <td>77.0</td>\n",
       "      <td>19.1</td>\n",
       "      <td>19.5</td>\n",
       "      <td>24.5</td>\n",
       "      <td>15.4</td>\n",
       "      <td>2.2</td>\n",
       "      <td>63.0</td>\n",
       "      <td>61.0</td>\n",
       "    </tr>\n",
       "    <tr>\n",
       "      <th>1</th>\n",
       "      <td>2</td>\n",
       "      <td>1</td>\n",
       "      <td>VIC</td>\n",
       "      <td>f</td>\n",
       "      <td>6.0</td>\n",
       "      <td>16.5</td>\n",
       "      <td>79.5</td>\n",
       "      <td>17.5</td>\n",
       "      <td>16.2</td>\n",
       "      <td>22.5</td>\n",
       "      <td>12.6</td>\n",
       "      <td>3.0</td>\n",
       "      <td>63.5</td>\n",
       "      <td>58.0</td>\n",
       "    </tr>\n",
       "    <tr>\n",
       "      <th>2</th>\n",
       "      <td>3</td>\n",
       "      <td>1</td>\n",
       "      <td>VIC</td>\n",
       "      <td>f</td>\n",
       "      <td>6.0</td>\n",
       "      <td>19.0</td>\n",
       "      <td>83.5</td>\n",
       "      <td>19.0</td>\n",
       "      <td>16.9</td>\n",
       "      <td>25.4</td>\n",
       "      <td>15.0</td>\n",
       "      <td>2.5</td>\n",
       "      <td>65.0</td>\n",
       "      <td>59.0</td>\n",
       "    </tr>\n",
       "    <tr>\n",
       "      <th>3</th>\n",
       "      <td>4</td>\n",
       "      <td>1</td>\n",
       "      <td>VIC</td>\n",
       "      <td>f</td>\n",
       "      <td>6.0</td>\n",
       "      <td>18.0</td>\n",
       "      <td>80.0</td>\n",
       "      <td>18.2</td>\n",
       "      <td>17.2</td>\n",
       "      <td>26.1</td>\n",
       "      <td>12.1</td>\n",
       "      <td>2.2</td>\n",
       "      <td>63.0</td>\n",
       "      <td>59.0</td>\n",
       "    </tr>\n",
       "    <tr>\n",
       "      <th>4</th>\n",
       "      <td>5</td>\n",
       "      <td>1</td>\n",
       "      <td>VIC</td>\n",
       "      <td>f</td>\n",
       "      <td>2.0</td>\n",
       "      <td>16.0</td>\n",
       "      <td>73.5</td>\n",
       "      <td>16.5</td>\n",
       "      <td>18.2</td>\n",
       "      <td>21.0</td>\n",
       "      <td>11.3</td>\n",
       "      <td>2.1</td>\n",
       "      <td>63.5</td>\n",
       "      <td>58.0</td>\n",
       "    </tr>\n",
       "  </tbody>\n",
       "</table>\n",
       "</div>"
      ],
      "text/plain": [
       "   koala_id  region habitat gender  age_in_years  Paw Size  total lengh  \\\n",
       "0         1       1     VIC      m           8.0      16.0         77.0   \n",
       "1         2       1     VIC      f           6.0      16.5         79.5   \n",
       "2         3       1     VIC      f           6.0      19.0         83.5   \n",
       "3         4       1     VIC      f           6.0      18.0         80.0   \n",
       "4         5       1     VIC      f           2.0      16.0         73.5   \n",
       "\n",
       "   head_length  ear_size  foot_length  skull_width  eye_diameter  \\\n",
       "0         19.1      19.5         24.5         15.4           2.2   \n",
       "1         17.5      16.2         22.5         12.6           3.0   \n",
       "2         19.0      16.9         25.4         15.0           2.5   \n",
       "3         18.2      17.2         26.1         12.1           2.2   \n",
       "4         16.5      18.2         21.0         11.3           2.1   \n",
       "\n",
       "   chest_circumference  belly_circumference  \n",
       "0                 63.0                 61.0  \n",
       "1                 63.5                 58.0  \n",
       "2                 65.0                 59.0  \n",
       "3                 63.0                 59.0  \n",
       "4                 63.5                 58.0  "
      ]
     },
     "execution_count": 7,
     "metadata": {},
     "output_type": "execute_result"
    }
   ],
   "source": [
    "df = pd.read_excel('koalas_dataset.xlsx')\n",
    "df.head()"
   ]
  },
  {
   "cell_type": "code",
   "execution_count": 8,
   "metadata": {},
   "outputs": [
    {
     "data": {
      "text/plain": [
       "(104, 14)"
      ]
     },
     "execution_count": 8,
     "metadata": {},
     "output_type": "execute_result"
    }
   ],
   "source": [
    "# Shape of the dataset\n",
    "df.shape"
   ]
  },
  {
   "cell_type": "code",
   "execution_count": 9,
   "metadata": {},
   "outputs": [
    {
     "data": {
      "text/html": [
       "<div>\n",
       "<style scoped>\n",
       "    .dataframe tbody tr th:only-of-type {\n",
       "        vertical-align: middle;\n",
       "    }\n",
       "\n",
       "    .dataframe tbody tr th {\n",
       "        vertical-align: top;\n",
       "    }\n",
       "\n",
       "    .dataframe thead th {\n",
       "        text-align: right;\n",
       "    }\n",
       "</style>\n",
       "<table border=\"1\" class=\"dataframe\">\n",
       "  <thead>\n",
       "    <tr style=\"text-align: right;\">\n",
       "      <th></th>\n",
       "      <th>region</th>\n",
       "      <th>age_in_years</th>\n",
       "      <th>Paw Size</th>\n",
       "      <th>total lengh</th>\n",
       "      <th>head_length</th>\n",
       "      <th>ear_size</th>\n",
       "      <th>foot_length</th>\n",
       "      <th>skull_width</th>\n",
       "      <th>eye_diameter</th>\n",
       "      <th>chest_circumference</th>\n",
       "      <th>belly_circumference</th>\n",
       "    </tr>\n",
       "  </thead>\n",
       "  <tbody>\n",
       "    <tr>\n",
       "      <th>count</th>\n",
       "      <td>104.000000</td>\n",
       "      <td>102.000000</td>\n",
       "      <td>104.000000</td>\n",
       "      <td>104.000000</td>\n",
       "      <td>104.000000</td>\n",
       "      <td>104.000000</td>\n",
       "      <td>102.000000</td>\n",
       "      <td>103.000000</td>\n",
       "      <td>104.000000</td>\n",
       "      <td>104.000000</td>\n",
       "      <td>103.000000</td>\n",
       "    </tr>\n",
       "    <tr>\n",
       "      <th>mean</th>\n",
       "      <td>3.625000</td>\n",
       "      <td>3.833333</td>\n",
       "      <td>17.009615</td>\n",
       "      <td>75.088462</td>\n",
       "      <td>18.554808</td>\n",
       "      <td>22.650000</td>\n",
       "      <td>18.461765</td>\n",
       "      <td>12.917476</td>\n",
       "      <td>5.886538</td>\n",
       "      <td>62.000000</td>\n",
       "      <td>57.582524</td>\n",
       "    </tr>\n",
       "    <tr>\n",
       "      <th>std</th>\n",
       "      <td>2.349086</td>\n",
       "      <td>1.909244</td>\n",
       "      <td>1.959518</td>\n",
       "      <td>4.310549</td>\n",
       "      <td>9.761017</td>\n",
       "      <td>87.562416</td>\n",
       "      <td>4.416935</td>\n",
       "      <td>11.160491</td>\n",
       "      <td>39.082636</td>\n",
       "      <td>2.045597</td>\n",
       "      <td>2.775150</td>\n",
       "    </tr>\n",
       "    <tr>\n",
       "      <th>min</th>\n",
       "      <td>1.000000</td>\n",
       "      <td>1.000000</td>\n",
       "      <td>12.000000</td>\n",
       "      <td>63.000000</td>\n",
       "      <td>7.500000</td>\n",
       "      <td>5.300000</td>\n",
       "      <td>10.300000</td>\n",
       "      <td>5.000000</td>\n",
       "      <td>0.500000</td>\n",
       "      <td>57.000000</td>\n",
       "      <td>50.000000</td>\n",
       "    </tr>\n",
       "    <tr>\n",
       "      <th>25%</th>\n",
       "      <td>1.000000</td>\n",
       "      <td>2.250000</td>\n",
       "      <td>15.875000</td>\n",
       "      <td>72.000000</td>\n",
       "      <td>15.700000</td>\n",
       "      <td>9.875000</td>\n",
       "      <td>14.550000</td>\n",
       "      <td>9.950000</td>\n",
       "      <td>1.400000</td>\n",
       "      <td>60.500000</td>\n",
       "      <td>56.000000</td>\n",
       "    </tr>\n",
       "    <tr>\n",
       "      <th>50%</th>\n",
       "      <td>3.000000</td>\n",
       "      <td>3.000000</td>\n",
       "      <td>17.000000</td>\n",
       "      <td>76.000000</td>\n",
       "      <td>17.850000</td>\n",
       "      <td>11.900000</td>\n",
       "      <td>17.950000</td>\n",
       "      <td>11.300000</td>\n",
       "      <td>1.900000</td>\n",
       "      <td>62.000000</td>\n",
       "      <td>57.500000</td>\n",
       "    </tr>\n",
       "    <tr>\n",
       "      <th>75%</th>\n",
       "      <td>6.000000</td>\n",
       "      <td>5.000000</td>\n",
       "      <td>18.000000</td>\n",
       "      <td>78.000000</td>\n",
       "      <td>19.800000</td>\n",
       "      <td>17.025000</td>\n",
       "      <td>22.500000</td>\n",
       "      <td>13.100000</td>\n",
       "      <td>2.725000</td>\n",
       "      <td>63.000000</td>\n",
       "      <td>59.250000</td>\n",
       "    </tr>\n",
       "    <tr>\n",
       "      <th>max</th>\n",
       "      <td>7.000000</td>\n",
       "      <td>9.000000</td>\n",
       "      <td>23.000000</td>\n",
       "      <td>84.500000</td>\n",
       "      <td>110.500000</td>\n",
       "      <td>900.800000</td>\n",
       "      <td>27.900000</td>\n",
       "      <td>120.600000</td>\n",
       "      <td>400.500000</td>\n",
       "      <td>67.000000</td>\n",
       "      <td>65.000000</td>\n",
       "    </tr>\n",
       "  </tbody>\n",
       "</table>\n",
       "</div>"
      ],
      "text/plain": [
       "           region  age_in_years    Paw Size  total lengh  head_length  \\\n",
       "count  104.000000    102.000000  104.000000   104.000000   104.000000   \n",
       "mean     3.625000      3.833333   17.009615    75.088462    18.554808   \n",
       "std      2.349086      1.909244    1.959518     4.310549     9.761017   \n",
       "min      1.000000      1.000000   12.000000    63.000000     7.500000   \n",
       "25%      1.000000      2.250000   15.875000    72.000000    15.700000   \n",
       "50%      3.000000      3.000000   17.000000    76.000000    17.850000   \n",
       "75%      6.000000      5.000000   18.000000    78.000000    19.800000   \n",
       "max      7.000000      9.000000   23.000000    84.500000   110.500000   \n",
       "\n",
       "         ear_size  foot_length  skull_width  eye_diameter  \\\n",
       "count  104.000000   102.000000   103.000000    104.000000   \n",
       "mean    22.650000    18.461765    12.917476      5.886538   \n",
       "std     87.562416     4.416935    11.160491     39.082636   \n",
       "min      5.300000    10.300000     5.000000      0.500000   \n",
       "25%      9.875000    14.550000     9.950000      1.400000   \n",
       "50%     11.900000    17.950000    11.300000      1.900000   \n",
       "75%     17.025000    22.500000    13.100000      2.725000   \n",
       "max    900.800000    27.900000   120.600000    400.500000   \n",
       "\n",
       "       chest_circumference  belly_circumference  \n",
       "count           104.000000           103.000000  \n",
       "mean             62.000000            57.582524  \n",
       "std               2.045597             2.775150  \n",
       "min              57.000000            50.000000  \n",
       "25%              60.500000            56.000000  \n",
       "50%              62.000000            57.500000  \n",
       "75%              63.000000            59.250000  \n",
       "max              67.000000            65.000000  "
      ]
     },
     "execution_count": 9,
     "metadata": {},
     "output_type": "execute_result"
    }
   ],
   "source": [
    "# We drop the koala_id column as it is not useful for the analysis\n",
    "df = df.drop('koala_id', axis=1)\n",
    "# Describe the dataset\n",
    "df.describe()"
   ]
  },
  {
   "cell_type": "markdown",
   "metadata": {},
   "source": [
    "## Cleaning the dataset"
   ]
  },
  {
   "cell_type": "code",
   "execution_count": 11,
   "metadata": {},
   "outputs": [
    {
     "data": {
      "text/plain": [
       "region                 0\n",
       "habitat                0\n",
       "gender                 0\n",
       "age_in_years           2\n",
       "Paw Size               0\n",
       "total lengh            0\n",
       "head_length            0\n",
       "ear_size               0\n",
       "foot_length            2\n",
       "skull_width            1\n",
       "eye_diameter           0\n",
       "chest_circumference    0\n",
       "belly_circumference    1\n",
       "dtype: int64"
      ]
     },
     "execution_count": 11,
     "metadata": {},
     "output_type": "execute_result"
    }
   ],
   "source": [
    "# Check for missing values\n",
    "df.isna().sum()"
   ]
  },
  {
   "cell_type": "code",
   "execution_count": 12,
   "metadata": {},
   "outputs": [
    {
     "data": {
      "text/plain": [
       "region                 0\n",
       "habitat                0\n",
       "gender                 0\n",
       "age_in_years           0\n",
       "Paw Size               0\n",
       "total lengh            0\n",
       "head_length            0\n",
       "ear_size               0\n",
       "foot_length            0\n",
       "skull_width            0\n",
       "eye_diameter           0\n",
       "chest_circumference    0\n",
       "belly_circumference    0\n",
       "dtype: int64"
      ]
     },
     "execution_count": 12,
     "metadata": {},
     "output_type": "execute_result"
    }
   ],
   "source": [
    "# Droppping the missing values\n",
    "df.dropna(inplace=True)\n",
    "df.isna().sum()"
   ]
  },
  {
   "cell_type": "markdown",
   "metadata": {},
   "source": [
    "### Numerical data exploration"
   ]
  },
  {
   "cell_type": "code",
   "execution_count": 14,
   "metadata": {},
   "outputs": [
    {
     "data": {
      "text/plain": [
       "<Axes: >"
      ]
     },
     "execution_count": 14,
     "metadata": {},
     "output_type": "execute_result"
    },
    {
     "data": {
      "image/png": "[encoded data removed]",
      "text/plain": [
       "<Figure size 2000x500 with 1 Axes>"
      ]
     },
     "metadata": {},
     "output_type": "display_data"
    }
   ],
   "source": [
    "# Check for outliers, we normalized the data to match the range for each column\n",
    "plt.figure(figsize=(20, 5))\n",
    "ss = StandardScaler()\n",
    "df_scaled = ss.fit_transform(df.drop(['habitat','gender'],axis=1))\n",
    "df_scaled = pd.DataFrame(df_scaled, columns=df.drop(['habitat','gender'],axis=1).columns)\n",
    "sns.boxplot(data=df_scaled)"
   ]
  },
  {
   "cell_type": "code",
   "execution_count": 15,
   "metadata": {},
   "outputs": [],
   "source": [
    "# Multiple columns have outliers, we will remove them\n",
    "outlier_cols = ['Paw Size', 'head_length', 'ear_size', 'skull_width', 'eye_diameter', 'chest_circumference', 'belly_circumference']\n",
    "\n",
    "for col in outlier_cols:\n",
    "    q1 = df[col].quantile(0.25)\n",
    "    q3 = df[col].quantile(0.75)\n",
    "    iqr = q3 - q1\n",
    "    lower_bound = q1 - 1.5 * iqr\n",
    "    upper_bound = q3 + 1.5 * iqr\n",
    "    df = df[(df[col] > lower_bound) & (df[col] < upper_bound)]\n"
   ]
  },
  {
   "cell_type": "code",
   "execution_count": 16,
   "metadata": {},
   "outputs": [
    {
     "data": {
      "text/plain": [
       "<Axes: >"
      ]
     },
     "execution_count": 16,
     "metadata": {},
     "output_type": "execute_result"
    },
    {
     "data": {
      "image/png": "[encoded data removed]",
      "text/plain": [
       "<Figure size 2000x500 with 1 Axes>"
      ]
     },
     "metadata": {},
     "output_type": "display_data"
    }
   ],
   "source": [
    "# After removing the outliers\n",
    "plt.figure(figsize=(20, 5))\n",
    "ss = StandardScaler()\n",
    "df_scaled = ss.fit_transform(df.drop(['habitat','gender'],axis=1))\n",
    "df_scaled = pd.DataFrame(df_scaled, columns=df.drop(['habitat','gender'],axis=1).columns)\n",
    "sns.boxplot(data=df_scaled)"
   ]
  },
  {
   "cell_type": "markdown",
   "metadata": {},
   "source": [
    "### Categorical data exploration"
   ]
  },
  {
   "cell_type": "code",
   "execution_count": 18,
   "metadata": {},
   "outputs": [
    {
     "name": "stdout",
     "output_type": "stream",
     "text": [
      "['VIC' 'VICtoria' 'QLD' 'Queensland' 'Queenstown' 'qld' 'q']\n",
      "['m' 'f']\n"
     ]
    }
   ],
   "source": [
    "cat_cols = ['habitat','gender']\n",
    "\n",
    "# Check the unique values in the categorical columns\n",
    "for col in cat_cols:\n",
    "    print(df[col].unique())"
   ]
  },
  {
   "cell_type": "code",
   "execution_count": 19,
   "metadata": {},
   "outputs": [],
   "source": [
    "# We need to fix values in habitat column\n",
    "df['habitat'].replace({'VICtoria':'VIC','Queensland':'QLD','Queenstown':'QLD','qld':'QLD','q':'QLD'},inplace=True)"
   ]
  },
  {
   "cell_type": "code",
   "execution_count": 20,
   "metadata": {},
   "outputs": [
    {
     "data": {
      "image/png": "[encoded data removed]",
      "text/plain": [
       "<Figure size 1000x500 with 2 Axes>"
      ]
     },
     "metadata": {},
     "output_type": "display_data"
    }
   ],
   "source": [
    "# Plotting the distribution of the categorical columns\n",
    "plt.figure(figsize=(10, 5))\n",
    "for i, col in enumerate(cat_cols):\n",
    "    plt.subplot(1, 2, i+1)\n",
    "    sns.countplot(df[col])\n",
    "    plt.title(f'{col} distribution')\n",
    "    plt.xticks(rotation=90)\n",
    "    plt.tight_layout()"
   ]
  },
  {
   "cell_type": "markdown",
   "metadata": {},
   "source": [
    "We can see that QLD has more number of Koalas and among all the Koalas, the count of Males is greater than Females"
   ]
  },
  {
   "cell_type": "markdown",
   "metadata": {},
   "source": [
    "# Data Visualisation"
   ]
  },
  {
   "cell_type": "code",
   "execution_count": 23,
   "metadata": {},
   "outputs": [
    {
     "data": {
      "image/png": "[encoded data removed]",
      "text/plain": [
       "<Figure size 1000x500 with 2 Axes>"
      ]
     },
     "metadata": {},
     "output_type": "display_data"
    }
   ],
   "source": [
    "QLD = df[df['habitat'] == 'QLD']['region'].value_counts()\n",
    "VIC = df[df['habitat'] == 'VIC']['region'].value_counts()\n",
    "\n",
    "# Plotting the distribution of the regions in both the states\n",
    "plt.figure(figsize=(10, 5))\n",
    "plt.suptitle('Koala Region Distribution in QLD and VIC')\n",
    "plt.subplot(1, 2, 1)\n",
    "plt.pie(QLD, autopct='%1.1f%%');\n",
    "plt.title('QLD Region Distribution')\n",
    "plt.subplot(1, 2, 2)\n",
    "plt.pie(VIC, autopct='%1.1f%%');\n",
    "plt.title('VIC Region Distribution');"
   ]
  },
  {
   "cell_type": "markdown",
   "metadata": {},
   "source": [
    "We can see the QLD has 5 regions with 3 major regions and 2 minor ones whereas VIC only has 2 regions with 1 region nearly containing all the koalas."
   ]
  },
  {
   "cell_type": "code",
   "execution_count": 25,
   "metadata": {},
   "outputs": [
    {
     "data": {
      "image/png": "[encoded data removed]",
      "text/plain": [
       "<Figure size 600x500 with 1 Axes>"
      ]
     },
     "metadata": {},
     "output_type": "display_data"
    }
   ],
   "source": [
    "group = df.groupby(['habitat','gender'])\n",
    "\n",
    "# Plotting the groupby results\n",
    "plt.figure(figsize=(6, 5))\n",
    "\n",
    "\n",
    "X = ['QLD','VIC'] \n",
    "YQLD = [group['age_in_years'].mean()['QLD']['m'], group['age_in_years'].mean()['VIC']['m']]\n",
    "YVIC = [group['age_in_years'].mean()['QLD']['f'], group['age_in_years'].mean()['VIC']['f']] \n",
    "  \n",
    "X_axis = np.arange(len(X)) \n",
    "  \n",
    "plt.bar(X_axis - 0.1, YQLD, 0.2, label = 'Male') \n",
    "plt.bar(X_axis + 0.1, YVIC, 0.2, label = 'Female') \n",
    "  \n",
    "plt.xticks(X_axis, X) \n",
    "plt.xlabel(\"Region\") \n",
    "plt.ylabel(\"Age of Koala\") \n",
    "plt.title(\"Age of Koala in different regions\") \n",
    "plt.legend() \n",
    "plt.show() \n"
   ]
  },
  {
   "cell_type": "markdown",
   "metadata": {},
   "source": [
    "We can see that in QLD region, the mean age of Males are bit higher than Females whereas in VIC, the mean age of Males is noticeably lower than those of Females. "
   ]
  },
  {
   "cell_type": "markdown",
   "metadata": {},
   "source": [
    "# Analysis"
   ]
  },
  {
   "cell_type": "markdown",
   "metadata": {},
   "source": [
    "### 1. Is the mean head length of the Koalas significantly different from 92.0 mm?\n",
    "\n",
    "$$H_0 : \\mu = 92$$\n",
    "$$H_a : \\mu \\ne 92$$"
   ]
  },
  {
   "cell_type": "code",
   "execution_count": 29,
   "metadata": {},
   "outputs": [
    {
     "data": {
      "text/plain": [
       "TtestResult(statistic=27.462594355961325, pvalue=7.555112849260176e-42, df=78)"
      ]
     },
     "execution_count": 29,
     "metadata": {},
     "output_type": "execute_result"
    }
   ],
   "source": [
    "# Perfeoming the t-test\n",
    "stats.ttest_1samp(df['head_length'], 9.2)"
   ]
  },
  {
   "cell_type": "markdown",
   "metadata": {},
   "source": [
    "As $p-value < 0.01$, we reject the $H_0$ and can say that mean head length of koalas is significantly different from 92"
   ]
  },
  {
   "cell_type": "markdown",
   "metadata": {},
   "source": [
    "### 2. Do male and female Koalas have significantly different mean head lengths?\n",
    "$$H_0:\\mu_a=\\mu_b$$\n",
    "$$H_a:\\mu_a\\ne\\mu_b$$"
   ]
  },
  {
   "cell_type": "code",
   "execution_count": 32,
   "metadata": {},
   "outputs": [
    {
     "data": {
      "text/plain": [
       "TtestResult(statistic=1.3071344424391456, pvalue=0.19505710031471268, df=77.0)"
      ]
     },
     "execution_count": 32,
     "metadata": {},
     "output_type": "execute_result"
    }
   ],
   "source": [
    "male = df[df['gender'] == 'm']['head_length']\n",
    "female = df[df['gender'] == 'f']['head_length']\n",
    "stats.ttest_ind(male,female)"
   ]
  },
  {
   "cell_type": "markdown",
   "metadata": {},
   "source": [
    "As $p-value > 0.1$, we cannot reject the $H_0$ and have no significant prove that male and female koalas have different mean head lengths."
   ]
  },
  {
   "cell_type": "markdown",
   "metadata": {},
   "source": [
    "### 3. Can we predict the total length of a Koala based on its head length?"
   ]
  },
  {
   "cell_type": "markdown",
   "metadata": {},
   "source": [
    "Let's state the Hypothesis first\n",
    "$$H_0:\\beta_1=0$$\n",
    "$$H_a:\\beta_1\\ne0$$"
   ]
  },
  {
   "cell_type": "code",
   "execution_count": 36,
   "metadata": {},
   "outputs": [
    {
     "name": "stdout",
     "output_type": "stream",
     "text": [
      "                                 OLS Regression Results                                \n",
      "=======================================================================================\n",
      "Dep. Variable:            total lengh   R-squared (uncentered):                   0.983\n",
      "Model:                            OLS   Adj. R-squared (uncentered):              0.983\n",
      "Method:                 Least Squares   F-statistic:                              4597.\n",
      "Date:                Mon, 14 Oct 2024   Prob (F-statistic):                    4.26e-71\n",
      "Time:                        02:38:06   Log-Likelihood:                         -292.05\n",
      "No. Observations:                  79   AIC:                                      586.1\n",
      "Df Residuals:                      78   BIC:                                      588.5\n",
      "Df Model:                           1                                                  \n",
      "Covariance Type:            nonrobust                                                  \n",
      "===============================================================================\n",
      "                  coef    std err          t      P>|t|      [0.025      0.975]\n",
      "-------------------------------------------------------------------------------\n",
      "head_length     4.2125      0.062     67.799      0.000       4.089       4.336\n",
      "==============================================================================\n",
      "Omnibus:                        0.443   Durbin-Watson:                   1.877\n",
      "Prob(Omnibus):                  0.801   Jarque-Bera (JB):                0.178\n",
      "Skew:                          -0.108   Prob(JB):                        0.915\n",
      "Kurtosis:                       3.083   Cond. No.                         1.00\n",
      "==============================================================================\n",
      "\n",
      "Notes:\n",
      "[1] R² is computed without centering (uncentered) since the model does not contain a constant.\n",
      "[2] Standard Errors assume that the covariance matrix of the errors is correctly specified.\n"
     ]
    }
   ],
   "source": [
    "model = sm.OLS(df['total lengh'], df['head_length'])\n",
    "result = model.fit()\n",
    "print(result.summary())"
   ]
  },
  {
   "cell_type": "markdown",
   "metadata": {},
   "source": [
    "We can see that $p-value \\sim 0$, so we reject the $H_0$ and can say that we have enough evidence that head length can be used to predict the total lenght of the Koala"
   ]
  },
  {
   "cell_type": "markdown",
   "metadata": {},
   "source": [
    "### 4. Can we predict the total length of a Koala based on multiple factors such as head length, skull width, and foot length?\n",
    "\n",
    "Let's state the Hypothesis first\n",
    "$$H_0:\\beta_1=0$$\n",
    "$$H_a:\\beta_1\\ne0$$"
   ]
  },
  {
   "cell_type": "code",
   "execution_count": 39,
   "metadata": {},
   "outputs": [
    {
     "name": "stdout",
     "output_type": "stream",
     "text": [
      "                                 OLS Regression Results                                \n",
      "=======================================================================================\n",
      "Dep. Variable:            total lengh   R-squared (uncentered):                   0.986\n",
      "Model:                            OLS   Adj. R-squared (uncentered):              0.985\n",
      "Method:                 Least Squares   F-statistic:                              1777.\n",
      "Date:                Mon, 14 Oct 2024   Prob (F-statistic):                    2.89e-70\n",
      "Time:                        02:38:06   Log-Likelihood:                         -285.27\n",
      "No. Observations:                  79   AIC:                                      576.5\n",
      "Df Residuals:                      76   BIC:                                      583.6\n",
      "Df Model:                           3                                                  \n",
      "Covariance Type:            nonrobust                                                  \n",
      "===============================================================================\n",
      "                  coef    std err          t      P>|t|      [0.025      0.975]\n",
      "-------------------------------------------------------------------------------\n",
      "head_length     2.4239      0.496      4.890      0.000       1.437       3.411\n",
      "skull_width     1.8045      0.701      2.574      0.012       0.408       3.201\n",
      "foot_length     0.5896      0.249      2.371      0.020       0.094       1.085\n",
      "==============================================================================\n",
      "Omnibus:                        1.539   Durbin-Watson:                   1.618\n",
      "Prob(Omnibus):                  0.463   Jarque-Bera (JB):                1.356\n",
      "Skew:                           0.319   Prob(JB):                        0.508\n",
      "Kurtosis:                       2.925   Cond. No.                         22.9\n",
      "==============================================================================\n",
      "\n",
      "Notes:\n",
      "[1] R² is computed without centering (uncentered) since the model does not contain a constant.\n",
      "[2] Standard Errors assume that the covariance matrix of the errors is correctly specified.\n"
     ]
    }
   ],
   "source": [
    "cols = ['head_length','skull_width','foot_length']\n",
    "model = sm.OLS(df['total lengh'], df[cols])\n",
    "result = model.fit()\n",
    "print(result.summary())"
   ]
  },
  {
   "cell_type": "markdown",
   "metadata": {},
   "source": [
    "We can see that $p-value \\sim 0$, so we reject the $H_0$ and can say that we have enough evidence that head length, skull width and foot length together can be used to predict the total lenght of the Koala. It is better than only using head length as we can see a bit of increase in the $R^2 score$"
   ]
  },
  {
   "cell_type": "markdown",
   "metadata": {},
   "source": [
    "### 5. Do environmental factors such as state affect Koala’s physical characteristics?"
   ]
  },
  {
   "cell_type": "markdown",
   "metadata": {},
   "source": [
    "Let's run multiple T-tests on physical characterstics within multiple states\n",
    "$$H_0:\\mu_a=\\mu_b$$\n",
    "$$H_a:\\mu_a\\ne\\mu_b$$"
   ]
  },
  {
   "cell_type": "code",
   "execution_count": 43,
   "metadata": {},
   "outputs": [
    {
     "name": "stdout",
     "output_type": "stream",
     "text": [
      "T-test for Paw Size : TtestResult(statistic=5.317649827549008, pvalue=9.973299920244544e-07, df=77.0)\n",
      "Reject Null Hypothesis, i.e. there is a significant difference between QLD and VIC\n",
      "T-test for total lengh : TtestResult(statistic=-2.62918810305781, pvalue=0.010329277265653624, df=77.0)\n",
      "Reject Null Hypothesis, i.e. there is a significant difference between QLD and VIC\n",
      "T-test for head_length : TtestResult(statistic=-2.2062007770446312, pvalue=0.030351273219181307, df=77.0)\n",
      "Reject Null Hypothesis, i.e. there is a significant difference between QLD and VIC\n",
      "T-test for ear_size : TtestResult(statistic=-21.215897376744103, pvalue=6.717354787227493e-34, df=77.0)\n",
      "Reject Null Hypothesis, i.e. there is a significant difference between QLD and VIC\n",
      "T-test for foot_length : TtestResult(statistic=-17.571002662801583, pvalue=1.1529670836191695e-28, df=77.0)\n",
      "Reject Null Hypothesis, i.e. there is a significant difference between QLD and VIC\n",
      "T-test for skull_width : TtestResult(statistic=-0.9345869393743624, pvalue=0.35292290593821796, df=77.0)\n",
      "Fail to Reject Null Hypothesis, i.e. there is no significant difference between QLD and VIC\n",
      "T-test for eye_diameter : TtestResult(statistic=0.7527754738608996, pvalue=0.453880167660378, df=77.0)\n",
      "Fail to Reject Null Hypothesis, i.e. there is no significant difference between QLD and VIC\n",
      "T-test for chest_circumference : TtestResult(statistic=-3.6710199467738076, pvalue=0.0004434658670234224, df=77.0)\n",
      "Reject Null Hypothesis, i.e. there is a significant difference between QLD and VIC\n",
      "T-test for belly_circumference : TtestResult(statistic=-1.6126612603439179, pvalue=0.11090951169666424, df=77.0)\n",
      "Fail to Reject Null Hypothesis, i.e. there is no significant difference between QLD and VIC\n"
     ]
    }
   ],
   "source": [
    "group = df.groupby('habitat')\n",
    "cols = ['Paw Size', 'total lengh', 'head_length', 'ear_size', 'foot_length', 'skull_width', 'eye_diameter', 'chest_circumference', 'belly_circumference']\n",
    "\n",
    "for i in cols:\n",
    "    QLD = group.get_group('QLD')[i]\n",
    "    VIC = group.get_group('VIC')[i]\n",
    "    T,p = stats.ttest_ind(QLD,VIC)\n",
    "    print(\"T-test for\",i,\":\",stats.ttest_ind(QLD,VIC))\n",
    "    if p < 0.05:\n",
    "        print(\"Reject Null Hypothesis, i.e. there is a significant difference between QLD and VIC\")\n",
    "    else:\n",
    "        print(\"Fail to Reject Null Hypothesis, i.e. there is no significant difference between QLD and VIC\")"
   ]
  },
  {
   "cell_type": "markdown",
   "metadata": {},
   "source": [
    "### 6. What factors are correlated with the total length of a Koala?"
   ]
  },
  {
   "cell_type": "code",
   "execution_count": 45,
   "metadata": {},
   "outputs": [
    {
     "data": {
      "text/html": [
       "<div>\n",
       "<style scoped>\n",
       "    .dataframe tbody tr th:only-of-type {\n",
       "        vertical-align: middle;\n",
       "    }\n",
       "\n",
       "    .dataframe tbody tr th {\n",
       "        vertical-align: top;\n",
       "    }\n",
       "\n",
       "    .dataframe thead th {\n",
       "        text-align: right;\n",
       "    }\n",
       "</style>\n",
       "<table border=\"1\" class=\"dataframe\">\n",
       "  <thead>\n",
       "    <tr style=\"text-align: right;\">\n",
       "      <th></th>\n",
       "      <th>total lengh</th>\n",
       "    </tr>\n",
       "  </thead>\n",
       "  <tbody>\n",
       "    <tr>\n",
       "      <th>total lengh</th>\n",
       "      <td>1.000000</td>\n",
       "    </tr>\n",
       "    <tr>\n",
       "      <th>head_length</th>\n",
       "      <td>0.593144</td>\n",
       "    </tr>\n",
       "    <tr>\n",
       "      <th>skull_width</th>\n",
       "      <td>0.541651</td>\n",
       "    </tr>\n",
       "    <tr>\n",
       "      <th>chest_circumference</th>\n",
       "      <td>0.497431</td>\n",
       "    </tr>\n",
       "    <tr>\n",
       "      <th>foot_length</th>\n",
       "      <td>0.453133</td>\n",
       "    </tr>\n",
       "    <tr>\n",
       "      <th>Paw Size</th>\n",
       "      <td>0.388554</td>\n",
       "    </tr>\n",
       "    <tr>\n",
       "      <th>belly_circumference</th>\n",
       "      <td>0.346614</td>\n",
       "    </tr>\n",
       "    <tr>\n",
       "      <th>age_in_years</th>\n",
       "      <td>0.294071</td>\n",
       "    </tr>\n",
       "    <tr>\n",
       "      <th>ear_size</th>\n",
       "      <td>0.291183</td>\n",
       "    </tr>\n",
       "    <tr>\n",
       "      <th>eye_diameter</th>\n",
       "      <td>0.202757</td>\n",
       "    </tr>\n",
       "    <tr>\n",
       "      <th>region</th>\n",
       "      <td>-0.429744</td>\n",
       "    </tr>\n",
       "  </tbody>\n",
       "</table>\n",
       "</div>"
      ],
      "text/plain": [
       "                     total lengh\n",
       "total lengh             1.000000\n",
       "head_length             0.593144\n",
       "skull_width             0.541651\n",
       "chest_circumference     0.497431\n",
       "foot_length             0.453133\n",
       "Paw Size                0.388554\n",
       "belly_circumference     0.346614\n",
       "age_in_years            0.294071\n",
       "ear_size                0.291183\n",
       "eye_diameter            0.202757\n",
       "region                 -0.429744"
      ]
     },
     "execution_count": 45,
     "metadata": {},
     "output_type": "execute_result"
    }
   ],
   "source": [
    "df.drop(['habitat','gender'],axis=1).corr()[['total lengh']].sort_values(by='total lengh',ascending=False)"
   ]
  },
  {
   "cell_type": "markdown",
   "metadata": {},
   "source": [
    "We can see that the correlation of each feature with Total Length in descending order, with top 3 features being Head Length, Skull Width and Chest Circumference"
   ]
  },
  {
   "cell_type": "markdown",
   "metadata": {},
   "source": []
  },
  {
   "cell_type": "code",
   "execution_count": null,
   "metadata": {},
   "outputs": [],
   "source": []
  }
 ],
 "metadata": {
  "kernelspec": {
   "display_name": "Python 3 (ipykernel)",
   "language": "python",
   "name": "python3"
  },
  "language_info": {
   "codemirror_mode": {
    "name": "ipython",
    "version": 3
   },
   "file_extension": ".py",
   "mimetype": "text/x-python",
   "name": "python",
   "nbconvert_exporter": "python",
   "pygments_lexer": "ipython3",
   "version": "3.12.4"
  }
 },
 "nbformat": 4,
 "nbformat_minor": 4
}
